{
 "cells": [
  {
   "cell_type": "markdown",
   "id": "541b82f2",
   "metadata": {},
   "source": [
    "**Завдання 1**\n",
    "Рішення:\n",
    "    "
   ]
  },
  {
   "cell_type": "markdown",
   "id": "9ffb3a87",
   "metadata": {
    "scrolled": false
   },
   "source": [
    "PA = m /n\n",
    "PA-ймовірність того, що серед 3-х включених елементів два будуть незношені\n",
    "m-кількість випадків сприятливих події\n",
    "n-загальна кількість випадків\n",
    "n=(7/3)*(6/2)*(5/1)\n",
    "m=((4/2)*(3/1))*(3/1)\n"
   ]
  },
  {
   "cell_type": "code",
   "execution_count": 4,
   "id": "fe32d381",
   "metadata": {},
   "outputs": [
    {
     "data": {
      "text/plain": [
       "0.5142857142857142"
      ]
     },
     "execution_count": 4,
     "metadata": {},
     "output_type": "execute_result"
    }
   ],
   "source": [
    "# PA = m/n\n",
    "n = (7/3)*(6/2)*(5/1)\n",
    "m = ((4/2)*(3/1))*(3/1)\n",
    "PA = m/n\n",
    "PA"
   ]
  },
  {
   "cell_type": "markdown",
   "id": "5042aab3",
   "metadata": {},
   "source": [
    "**Завдання 2**\n",
    "Рішення:"
   ]
  },
  {
   "cell_type": "markdown",
   "id": "17572589",
   "metadata": {},
   "source": [
    "A1-подія, при якій у разі аварії спрацює 1-й сигналізатор\n",
    "P(A1) = 0.95\n",
    "A2-подія, при якій у разі аварії спрацює 2-й сигналізатор\n",
    "P(A2)=0.9\n",
    "B-подія при якій спрацює хоча б один сигналізатор\n",
    "Оскільки події сумісні, використовуємо теорему додавання\n"
   ]
  },
  {
   "cell_type": "code",
   "execution_count": 5,
   "id": "07a355cb",
   "metadata": {},
   "outputs": [
    {
     "data": {
      "text/plain": [
       "0.9950000000000001"
      ]
     },
     "execution_count": 5,
     "metadata": {},
     "output_type": "execute_result"
    }
   ],
   "source": [
    "P1 = 0.95\n",
    "P2 = 0.9\n",
    "PB = (P1+P2)-P1*P2\n",
    "PB\n"
   ]
  },
  {
   "cell_type": "markdown",
   "id": "002c8664",
   "metadata": {},
   "source": [
    "C-подія, при якій спрацює тільки один сигналізатор\n",
    "Знаходимо ймовірності протилежної події:\n",
    "NP1 = 1-P1\n",
    "NP2 = 1 -P2\n",
    "Потім знаходимо PC- ймовірність, при якій спрацює хоча б один сигналізаторТ\n",
    "PC = P1*NP2 + P2*NP1"
   ]
  },
  {
   "cell_type": "code",
   "execution_count": 6,
   "id": "e9246b41",
   "metadata": {},
   "outputs": [
    {
     "data": {
      "text/plain": [
       "0.14"
      ]
     },
     "execution_count": 6,
     "metadata": {},
     "output_type": "execute_result"
    }
   ],
   "source": [
    "P1 = 0.95\n",
    "P2 = 0.9\n",
    "NP1 = 1-P1\n",
    "NP2 = 1 -P2\n",
    "PC = P1*NP2 + P2*NP1\n",
    "PC"
   ]
  },
  {
   "cell_type": "markdown",
   "id": "e5ef7db8",
   "metadata": {},
   "source": [
    "**Завдання 3** \n",
    "Рішення:\n",
    "    "
   ]
  },
  {
   "cell_type": "markdown",
   "id": "2d0ccee3",
   "metadata": {},
   "source": [
    "А- подія, приякій маємо виріб вищого гатунку\n",
    "D1-виріб 1-го автомату\n",
    "D2-виріб 2-го автомату\n",
    "За умовою задачі маємо:\n",
    "      PD1 = 2/3 та PD2 = 1/3,  PD1A = 0.6, PD2A = 0.84\n",
    "Знайдемо ймовірність того, \n",
    "що навмання виріб взятий з конвєєра буде вищого гатунку:\n",
    "    PA = PD1*PD1A + PD2*PD2\n",
    "    "
   ]
  },
  {
   "cell_type": "code",
   "execution_count": 7,
   "id": "ced39603",
   "metadata": {},
   "outputs": [
    {
     "data": {
      "text/plain": [
       "0.6799999999999999"
      ]
     },
     "execution_count": 7,
     "metadata": {},
     "output_type": "execute_result"
    }
   ],
   "source": [
    "PA = (2*0.6)/3 + (1*0.84)/3\n",
    "PA"
   ]
  },
  {
   "cell_type": "markdown",
   "id": "8d0f25ae",
   "metadata": {},
   "source": [
    "Знайдемо ймовірність того, \n",
    "що навмання взятий з конвєєра виріб має вищий гатунок,\n",
    "використавши формулу Байєса:\n",
    "    PAD1 = (PD1*PD1A)/PA\n",
    "\n",
    "    "
   ]
  },
  {
   "cell_type": "code",
   "execution_count": 8,
   "id": "4828d609",
   "metadata": {},
   "outputs": [
    {
     "data": {
      "text/plain": [
       "0.5882352941176471"
      ]
     },
     "execution_count": 8,
     "metadata": {},
     "output_type": "execute_result"
    }
   ],
   "source": [
    "PD1 = 2/3\n",
    "PD1A = 0.6\n",
    "PA = (2*0.6)/3 + (1*0.84)/3\n",
    "PAD1 = (PD1*PD1A)/PA\n",
    "PAD1"
   ]
  }
 ],
 "metadata": {
  "kernelspec": {
   "display_name": "Python 3 (ipykernel)",
   "language": "python",
   "name": "python3"
  },
  "language_info": {
   "codemirror_mode": {
    "name": "ipython",
    "version": 3
   },
   "file_extension": ".py",
   "mimetype": "text/x-python",
   "name": "python",
   "nbconvert_exporter": "python",
   "pygments_lexer": "ipython3",
   "version": "3.10.11"
  }
 },
 "nbformat": 4,
 "nbformat_minor": 5
}
